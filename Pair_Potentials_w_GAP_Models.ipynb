{
 "cells": [
  {
   "cell_type": "markdown",
   "id": "51e284e6",
   "metadata": {},
   "source": [
    "# Using Pair Potentials Alongside GAP Models - A Tutorial\n"
   ]
  },
  {
   "cell_type": "markdown",
   "id": "fc89e8a6",
   "metadata": {},
   "source": [
    "Hello! \n",
    "\n",
    "If you find yourself here, it is likely because you want to learn how to compute pair potentials for dimers, subtract these energies and forces from your dataset of structures, and subsequently run simulations with your pair and GAP potentials. If not, I'm afraid you've somehow managed to crawl your way into a very niche area of the vast internet - don't worry, we've all been there, but now it's probably time for you to leave.\n",
    "\n",
    "In this tutorial, you will learn how to:\n",
    "1. Compute pair potentials using the `pw.x` program of Quantum Espresso and compile them into a LAMMPS-readable format. \n",
    "2. Use LAMMPS and the newly-created pair potential to compute energies and forces on your dataset of structures. - \n",
    "     - These energies and forces will have to be subtracted from your dataset before creating your GAP model (otherwise you would have this repulsive contribution to energies and forces calculated twice during simulations!)\n",
    "3. Run simulations with i-PI using the pair potential (through LAMMPS) and your GAP model (through Librascal)\n",
    "\n",
    "Although I, Victor Principe, Ph.A., have compiled and written this tutorial, the majority of the functions/work for step 1 was written and prepared by Sir Philip Loche, Ph.D., so make sure to go read and cite his work! \n",
    "\n",
    "*Disclaimer: Philip wasn't actually knighted, but the work he provided makes him a knight to me*. "
   ]
  },
  {
   "cell_type": "markdown",
   "id": "48fa6da6",
   "metadata": {},
   "source": [
    "## Some background first...\n",
    "For some background, let's first explain why this is all necessary. \n",
    "\n",
    "When creating your GAP potential, you provide the model with a dataset containing many different configurations and/or systems of interest, hopefully with high fidelity quantum mechanical force and energy data to go along with each snapshot. These snapshots are usually provided from configurational sampling of the system(s) in question. The issue is that these simulations likely did not sample any configurational space where atoms are very close together, as repulsive electrostatic forces should have prevented this from occurring. As the model doesn't know anything about physical principles, it naively extrapolates its model to very small interatomic distances. Instead of having an exponential increase in energy at close distances, with exponentially increasing repulsive forces between the two atoms, it models a decrease in energy/forces down to zero below a certain threshold. \n",
    "\n",
    "Now what's the result of this? \n",
    "\n",
    "Well, if you subsequently use your GAP potential, and an atom pair pass the aforementioned threshold, the model believes the forces become attractive and the atoms will get cosy and collapse in on each other. Suffice to say the this should *definitely not happen in any universe we live in*. Hence, we need to compute and execute a parallel potential between pairs of atoms that knows how forces and energies behave at small interatomic distances, and thereby \"override\" the unphysical predictions of the GAP model."
   ]
  },
  {
   "cell_type": "markdown",
   "id": "95810bfa",
   "metadata": {},
   "source": [
    "Let's first import some necessary modules for the notebook. Also, please define `basedir` as the path to the directory of the project you are working on. If you would like to run this notebook with the data provided, you can just set `basedir` as the path to the directory in which this notebook is found."
   ]
  },
  {
   "cell_type": "code",
   "execution_count": 1,
   "id": "689b89ba-01db-48dd-937c-55d8ae0f8790",
   "metadata": {
    "code_folding": [
     0
    ]
   },
   "outputs": [],
   "source": [
    "#Import necessary modules\n",
    "import datetime\n",
    "import os\n",
    "from os import makedirs\n",
    "import warnings\n",
    "from io import StringIO\n",
    "from shutil import copy\n",
    "\n",
    "import pickle\n",
    "import ase\n",
    "import ase.io\n",
    "import ase.io.espresso\n",
    "from ase.visualize import view\n",
    "import chemiscope\n",
    "import matplotlib.pyplot as plt\n",
    "import numpy as np\n",
    "import pandas as pd\n",
    "from scipy import constants\n",
    "from scipy.interpolate import interp1d\n",
    "from scipy.optimize import curve_fit\n",
    "from sklearn.linear_model import Ridge\n",
    "from rascal.models import Kernel, train_gap_model, compute_KNM\n",
    "from rascal.representations import SphericalInvariants\n",
    "from rascal.utils import FPSFilter, dump_obj, load_obj\n",
    "from tqdm.notebook import tqdm\n",
    "from time import time"
   ]
  },
  {
   "cell_type": "code",
   "execution_count": 2,
   "id": "d2efb13d",
   "metadata": {},
   "outputs": [],
   "source": [
    "#Define base directory of the project\n",
    "basedir = \"/scratch/vprincip/pair_potentials/\""
   ]
  },
  {
   "cell_type": "markdown",
   "id": "4987a15e",
   "metadata": {},
   "source": [
    "# Computing Pair Potentials\n",
    "\n",
    "As explained above, we first need to compute pair potentials using Quantum Espresso's `pw.x` programme.\n",
    "\n",
    "In order to do this, we need to run a structure relaxation using every possible combination of element pairs in the system(s) of your dataset. For the purpose of this tutorial, we will be using a dataset of organic molecular crystals containing H, C, N, and O. These structure relaxations will give the energies and forces of atom pairs as a function of their interatomic distance. At the equilibrium spacing, the forces acting on the atoms will be zero, and the energy will reach a minimum."
   ]
  },
  {
   "cell_type": "markdown",
   "id": "b923d368-0929-47ca-8312-dd134080f123",
   "metadata": {},
   "source": [
    "## Setup System\n",
    "\n",
    "We first need to set up the systems (i.e. create the `pw.x` input files) for each pair of elements. It is **very important** that you use the **same parameters** during these structure relaxations as were used for the creation of your dataset. Please read the comments in the cells below in order to understand what you may need to change."
   ]
  },
  {
   "cell_type": "code",
   "execution_count": 3,
   "id": "18b604a5-a009-4e4f-bf2d-0c57f5da63a0",
   "metadata": {},
   "outputs": [],
   "source": [
    "workpath = \"/scratch/vprincip/pair_potentials/work_dir/\" # Change this to your working directory\n",
    "\n",
    "elements = [\"H\", \"C\", \"N\", \"O\"] # Elements for which you would like to create pair potentials\n",
    "L = 13.22  # Length of cubic box used in structure relaxation (13.22 Angstroms are equal to 25 Bohr)\n",
    "\n",
    "# Create an array of all possible dimer pairs\n",
    "dimers = [] \n",
    "n_elements = len(elements)\n",
    "for i in range(n_elements):\n",
    "    for j in range(i, n_elements):\n",
    "        dimers.append((elements[i], elements[j]))\n",
    "\n",
    "# Define Pseudopotentials\n",
    "pseudo_names = ['H.pbe-tm-new-gipaw-dc.UPF', 'C.pbe-tm-new-gipaw-dc.UPF', \n",
    "                'N.pbe-n-kjpaw_psl.1.0.0.UPF', 'O.pbe-n-kjpaw_psl.1.0.0.UPF'] #change to the names of your pseudos\n",
    "pseudopotentials = {i: j for i,j in zip(elements, pseudo_names)}"
   ]
  },
  {
   "cell_type": "code",
   "execution_count": 4,
   "id": "e83d7c8b",
   "metadata": {},
   "outputs": [],
   "source": [
    "# Data for pw.x input file -- CHANGE THIS to the parameters used in the curation of your dataset \n",
    "input_data = {\n",
    "    \"CONTROL\": dict(calculation='relax', # we want to do a structure relaxation\n",
    "                    pseudo_dir='../../pseudos/', # change this to your directory of pseudopotentials\n",
    "                    restart_mode = 'from_scratch',\n",
    "                    tprnfor = True), \n",
    "    \"SYSTEM\": dict(ibrav=1,\n",
    "                   ecutwfc=60.0,\n",
    "                   ecutrho=240.0,\n",
    "                   vdw_corr='dft-d',\n",
    "                   nosym=True,\n",
    "                   occupations='smearing',\n",
    "                   degauss=0.02,\n",
    "                   smearing='mv'),\n",
    "    \"ELECTRONS\": dict(conv_thr=1e-10,\n",
    "                      mixing_beta=0.5)}"
   ]
  },
  {
   "cell_type": "markdown",
   "id": "47ed2aeb",
   "metadata": {},
   "source": [
    "We can now create the input files for the `pw.x` programme (called `pw.in`). \n",
    "\n",
    "We will also create Slurm submission scripts for each pair so that the structure relaxations can be run on a server, if need be. Please change the `srun_template.sh` file to suit your needs/cluster if need be. "
   ]
  },
  {
   "cell_type": "code",
   "execution_count": 16,
   "id": "638ce710",
   "metadata": {},
   "outputs": [],
   "source": [
    "# Create directories for each pair of elements, and write pw.in files and Slurm submit scirpts for each -- by Philip Loche\n",
    "\n",
    "os.chdir(workpath)\n",
    "with open(\"../templates/srun_template.sh\", \"r\") as f: #Change this to your template path\n",
    "    srun_template = f.read()\n",
    "\n",
    "for dimer in dimers:\n",
    "    dimer_name = \"\".join(dimer)\n",
    "    \n",
    "    makedirs(dimer_name, exist_ok=True) # Create directory for atom pair\n",
    "\n",
    "    os.chdir(dimer_name)\n",
    "\n",
    "    if \"H\" in dimer:\n",
    "        r_min = 0.1 # Use a minimum (starting) distance of 0.1 angstroms for pairs containing Hydrogen\n",
    "    else:\n",
    "        r_min = 0.5 # Use a minimum (starting) distance of 0.5 angstroms for all other pairs\n",
    "    \n",
    "    # Create Atoms object with atomic positions and the unit cell\n",
    "    atoms = ase.Atoms(dimer, positions=[\n",
    "                      (0, 0, 0), (r_min, 0, 0)], cell=3 * [L]) \n",
    "\n",
    "\n",
    "    # Workaround since ASE does not allow for writing fixed positions\n",
    "    with StringIO() as fd:\n",
    "        ase.io.espresso.write_espresso_in(fd,\n",
    "                                          atoms=atoms,\n",
    "                                          input_data=input_data,\n",
    "                                          pseudopotentials=pseudopotentials)\n",
    "        fd.seek(0)\n",
    "        pw = fd.read().split(\"\\n\")\n",
    "\n",
    "    pw[-4] += \"0 0 0\"\n",
    "    pw[-3] += \"1 0 0\"\n",
    "    \n",
    "    # Write pw.in file\n",
    "    with open(\"pw.in\", \"w\") as f:\n",
    "        f.write(\"\\n\".join(pw))\n",
    "    \n",
    "    # Write slurm input file\n",
    "    with open(\"srun.sh\", \"w\") as f:\n",
    "        f.write(srun_template.replace(\"job-name=\\n\",\n",
    "                                      f\"job-name={dimer_name}_dimer\\n\"))\n",
    "\n",
    "    os.chdir(\"..\")\n",
    "\n",
    "os.chdir(basedir)"
   ]
  },
  {
   "cell_type": "markdown",
   "id": "1cf726e3",
   "metadata": {},
   "source": [
    "## Run dimer structure relaxations\n",
    "\n",
    "We can now run structure relaxation for all of our dimer pairs. To do this, you (obviously) need to have a working version of Quantum Espresso (QE) installed on your workstation or server. If you do not have Quantum Espresso installed yet, please go to https://www.quantum-espresso.org to get more information on how to download and compile the programme. I have also provided the necessary outputs to continue this tutorial without needing to run the calculations yourself, if you don't want to go through the effort of compiling QE.\n",
    "\n",
    "If you would like to run the calculations on your server - assuming it uses Slurm as its job scheduler and resource manager - it's as simple as typing `sbatch srun.sh` in the directory of the dimer. If the server doesn't use Slurm, well, you're out of luck and you will never be able to relax a structure (or yourself). Just kidding, but I can't help you in this case so grab your board and surf the World Wide Web for a solution.\n",
    "\n",
    "If you would like to run calculations locally, all you need to do is find the path to your `pw.x` exectuable (or better add it to your $PATH), and execute it as `pw.x < pw.in > pw.out`. Or, if you would like to sit back and relax, you can go to your working directory path (which contains all the directories of your atom pairs) and execute:\n",
    "\n",
    "`for i in *; do cd $i; echo \"Processing dimer $i\"; pw.x < pw.in > pw.out; wait; cd ..; done`\n",
    "\n",
    "If your structure relaxation doesn't start, please make sure that you:\n",
    "- Provided the correct path to `pw.x`\n",
    "- Provided the correct pseudopotential names\n",
    "- Attributed the each pseudopotential to the correct species\n",
    "- Provided the correct `pseudo_dir` in your pw.in input file"
   ]
  },
  {
   "cell_type": "markdown",
   "id": "f3fc6569",
   "metadata": {},
   "source": [
    "## Analyse results\n",
    "Let's now take a look at some of the dimer relaxation results. \n",
    "\n",
    "\n",
    "The LAMMPS pair potential requires the energy and force at the equilibrium spacing to both be equal to zero. As the force will naturally be very close to (or equal to) zero. However, the energy reaches a minimum below zero, and so the energies in each frame will need to be subtracted from the final energy (i.e. baselined). In the case that the final positions is outside the cutoff range, a cosine weighting function can be applied to smoothly sift the tail of the data down to zero. The `cosine_weighting` function (provided by Philip Loche) below applies these transformations. \n",
    "\n",
    "As there are relatively few datapoints from the structure relaxation, we should interpolate data within the furthest distance datapoint, and extrapolate to vey short distances, in order to ensure the LAMMPS pair potential is fitted properly. This is done using the `interp1d` function of SciPy."
   ]
  },
  {
   "cell_type": "code",
   "execution_count": 5,
   "id": "4db6b0a4-0941-4a9a-9ee2-89d84f636b7d",
   "metadata": {
    "code_folding": [
     0
    ]
   },
   "outputs": [],
   "source": [
    "def cosine_weighting(pos, ener, force, r_cut=2, select=True): # Written by Philip Loche\n",
    "    \"\"\"Weight the energy with cosine so that the energy is 0 at `r_cut`.\n",
    "\n",
    "      .. math::\n",
    "          E_n(r) = cos(k r) \\cdot E_o(r)\n",
    "\n",
    "    where :math:`E_n(r)` is the new energy at `r`\n",
    "    and :math:`E_o(r)` the old energy. Here\n",
    "\n",
    "      .. math::\n",
    "          k = \\frac{\\pi}{2 r_\\mathrmn{cut}}\n",
    "\n",
    "    is the angular frequncy of the cosine. The force is weighted accordingly\n",
    "\n",
    "      .. math::\n",
    "          F_n(r) = k sin (k r) \\cdot E_o(r) + cos(k r) \\cdot F_o(r)\n",
    "\n",
    "    A warning is raised if :math:`- \\partial E_o(r) / \\partial r != F_o(r)`\n",
    "\n",
    "    Parameters\n",
    "    ----------\n",
    "    pos : numpy.ndarray\n",
    "        positions of the energy and the force\n",
    "    ener : numpy.ndarray\n",
    "        energy\n",
    "    force : numpy.ndarray\n",
    "        force\n",
    "    r_cut : float\n",
    "        the position at which the cosine is 0\n",
    "    select : bool\n",
    "        return only value for :math:`r<r_\\mathrm{cut}`. An additional point \n",
    "        at `r_cut` is added.\n",
    "    Returns\n",
    "    -------\n",
    "    pos_new : numpy.ndarray\n",
    "        new positions if select keyword is `True`\n",
    "    ener_weighted : numpy.ndarray\n",
    "        cosine weighted energy\n",
    "    force_weighted : numpy.ndarray\n",
    "        weighted force\n",
    "    \"\"\"\n",
    "\n",
    "    if pos.shape != ener.shape != force.shape:\n",
    "        raise ValueError(f\"Shape of positions {pos.shape},\"\n",
    "                         f\"energies {ener.shape} forces {force.shape} \"\n",
    "                         \"do not agree!\")\n",
    "\n",
    "    if np.allclose(-np.gradient(ener, pos), force):\n",
    "        warnings.warn(\"Gradient of energy does not agree with given forces!\")\n",
    "\n",
    "    k = np.pi / (2 * r_cut)\n",
    "    cos = np.cos(k * pos)\n",
    "    sin = np.sin(k * pos)\n",
    "\n",
    "    ener_weighted = cos * ener\n",
    "    force_weighted = k * sin * ener + cos * force\n",
    "\n",
    "    if select:\n",
    "        max_index = np.argmin(np.abs(pos - r_cut))\n",
    "\n",
    "        pos_new = pos[:max_index]\n",
    "        ener_weighted = ener_weighted[:max_index]\n",
    "        force_weighted = force_weighted[:max_index]\n",
    "\n",
    "        pos_new = np.hstack([pos_new, r_cut])\n",
    "        ener_weighted = np.hstack([ener_weighted, 0])\n",
    "        force_weighted = np.hstack([force_weighted, 0])\n",
    "\n",
    "        return pos_new, ener_weighted, force_weighted\n",
    "    else:\n",
    "        return ener_weighted, force_weighted #Courtesy of Philip Loche"
   ]
  },
  {
   "cell_type": "code",
   "execution_count": 6,
   "id": "2a15de71",
   "metadata": {},
   "outputs": [],
   "source": [
    "# Importing the pw.out data for all dimers -- by Philip Loche\n",
    "dimer_ff = {} #Create dictionary of results (positions, energies, forces) for each dimer\n",
    "r_cut = 2 #choose a cutoff distance for the potential\n",
    "\n",
    "for dimer in dimers:\n",
    "    dimer_name = \"\".join(dimer)\n",
    "    # Find files\n",
    "    try:\n",
    "        frames = ase.io.read(workpath+dimer_name+\"/pw.out\", \":\")\n",
    "    except FileNotFoundError as err:\n",
    "        print(err)\n",
    "        continue\n",
    "    except AssertionError as err:\n",
    "        print(f\"{dimer_name} AssertionError: {err}\")\n",
    "        continue\n",
    "\n",
    "    positions = np.zeros(len(frames))\n",
    "    energies = np.zeros(len(frames))\n",
    "    forces = np.zeros(len(frames))\n",
    "\n",
    "    for i, frame in enumerate(frames):\n",
    "        positions[i] = frame.positions[1, 0]\n",
    "        energies[i] = frame.get_total_energy()\n",
    "        forces[i] = frame.get_forces()[1, 0]\n",
    "\n",
    "    # Subtract final energy from all energies and set last force value to 0\n",
    "    energies -= energies[-1]\n",
    "    forces[-1] = 0\n",
    "    \n",
    "    # If positions surpass the cutoff distance, sift the energies down to zero using the cosine weighting function\n",
    "    if positions[-1] > r_cut:  # Å\n",
    "        positions, energies, forces = cosine_weighting(positions,\n",
    "                                                       energies,\n",
    "                                                       forces,\n",
    "                                                       r_cut=r_cut)\n",
    "\n",
    "    #Interpolate results within max. distance and extrapolate results to short distances\n",
    "    inter_args = dict(fill_value=\"extrapolate\", kind='cubic')\n",
    "\n",
    "    positions_inter = np.linspace(0.01, positions.max(), 100) #create 100 datapoints up to the max. position\n",
    "\n",
    "    energies_inter_f = interp1d(positions, energies, **inter_args) #Function to inter-/extrapolate energies given a distance\n",
    "    energies_inter = energies_inter_f(positions_inter) #Inter- and extrapolate energies based on 100 position datapoints\n",
    "\n",
    "    forces_inter_f = interp1d(positions, forces, **inter_args)\n",
    "    forces_inter = forces_inter_f(positions_inter) #Inter- and extrapolate forces\n",
    "\n",
    "    forces_inter_derive = -np.gradient(energies_inter, positions_inter) #get energy derivatives (i.e. forces) of inter-/extrapolated data\n",
    "\n",
    "    forces_inter_derive[-1] = 0 #make interpolated energy derivative (force) equal to zero\n",
    "    \n",
    "    #Append information to the dimer_ff dictionary\n",
    "    dimer_ff[dimer] = dict(name=\"\".join(dimer),\n",
    "                           positions=positions,\n",
    "                           positions_inter=positions_inter,\n",
    "                           energies=energies,\n",
    "                           energies_inter=energies_inter,\n",
    "                           forces_inter=forces_inter,\n",
    "                           forces_inter_derive=forces_inter_derive,\n",
    "                           forces=forces)"
   ]
  },
  {
   "cell_type": "markdown",
   "id": "96005efd",
   "metadata": {},
   "source": [
    "Now let's look at a plot of both the original data (in blue) and the inter- and extrapolated data (in orange) for the H-C dimer. Note that interpolation only occurred within the final original datapoint (at the furthest interatomic distance sampled), and that extrapolation continued at distances under the first original datapoint (the closest interatomic distance sampled)."
   ]
  },
  {
   "cell_type": "code",
   "execution_count": 7,
   "id": "b26fda7a",
   "metadata": {},
   "outputs": [
    {
     "data": {
      "text/plain": [
       "<matplotlib.legend.Legend at 0x7f68c9e83700>"
      ]
     },
     "execution_count": 7,
     "metadata": {},
     "output_type": "execute_result"
    },
    {
     "data": {
      "image/png": "[encoded data removed]",
      "text/plain": [
       "<Figure size 600x400 with 1 Axes>"
      ]
     },
     "metadata": {},
     "output_type": "display_data"
    }
   ],
   "source": [
    "# Plot pair potential interpolated energies -- by Philip Loche\n",
    "plt.figure(figsize=(6,4), dpi=100)\n",
    "plt.plot(dimer_ff[(\"H\", \"C\")][\"positions\"],\n",
    "         dimer_ff[(\"H\", \"C\")][\"energies\"],\n",
    "         \"o\",\n",
    "         label=\"energies\")\n",
    "\n",
    "plt.plot(dimer_ff[(\"H\", \"C\")][\"positions_inter\"],\n",
    "         dimer_ff[(\"H\", \"C\")][\"energies_inter\"],\n",
    "         \".\", label=\"energies_intr\")\n",
    "\n",
    "plt.ylabel(\"Energy / eV\")\n",
    "plt.xlabel(\"r / $\\AA$\")\n",
    "plt.legend()\n"
   ]
  },
  {
   "cell_type": "markdown",
   "id": "202c4679",
   "metadata": {},
   "source": [
    "Hurrah! That plot looks about right. \n",
    "\n",
    "## Create Pair Potential Table\n",
    "We can now create a pair potential through LAMMPS using the data we have. We need to combine the data into a `potential.table` file that we provide to LAMMPS, which contains the positions, energies and forces for each dimer. As explained above, we will use the inter-/extrapolated data to ensure the potential behaves properly. "
   ]
  },
  {
   "cell_type": "code",
   "execution_count": 8,
   "id": "cb6868db",
   "metadata": {},
   "outputs": [],
   "source": [
    "# Write potential.table file containing position, energy and force data for each dimer\n",
    "out = f\"# DATE: {datetime.datetime.now().date()}  UNITS: metal\\n\"\n",
    "out += \"# CONTRIBUTOR: Victor Principe\\n\" # Change this to your name!\n",
    "out += \"# Repulsive potential obtained from dimer dissociation using DFT.\\n\"\n",
    "\n",
    "for dimer in dimers:\n",
    "    positions = dimer_ff[dimer][\"positions_inter\"]\n",
    "    energies = dimer_ff[dimer][\"energies_inter\"]\n",
    "    forces = dimer_ff[dimer][\"forces_inter\"]\n",
    "\n",
    "    out += f\"\\nREPULSIVE_{dimer_ff[dimer]['name']}\\n\"\n",
    "    out += f\"N {len(positions)}\\n\\n\" #Add number of datapoints given for each dimer (necessary for LAMMPS)\n",
    "\n",
    "    for i, (pos, energy, force) in enumerate(zip(positions,\n",
    "                                                 energies,\n",
    "                                                 forces)):\n",
    "        out += f\"{i:>4d} {pos:>6.3f} {energy:>14.6f} {force:>14.6f}\\n\" #Append data\n",
    "\n",
    "with open(f\"potential.table\", \"w\") as f:\n",
    "    f.write(out) #write potential.table file"
   ]
  },
  {
   "cell_type": "markdown",
   "id": "6ea70920",
   "metadata": {},
   "source": [
    "# Calculating Energies/Forces in your Dataset"
   ]
  },
  {
   "cell_type": "markdown",
   "id": "c937fb9c",
   "metadata": {},
   "source": [
    "We can now use the newly-created potential to calculate energies and forces in the dataset that was used to create the GAP potential. To illustrate this, we are going to use a dummy dataset called CSD-7, which is a very reduced version the CSD-10k dataset of organic molecular crystals. This dataset contains one geometry-optimised structure and 100 MD structures of 7 unique organic crystals containing only H, C, N and O."
   ]
  },
  {
   "cell_type": "markdown",
   "id": "03f52f4b",
   "metadata": {},
   "source": [
    "## Create input files\n",
    "We firstly need to import the data, and then write new LAMMPS structure files for each structure (225k total). Note that the dataset is imported as a dictionary, where each key is the CSD name of the crystal and the value is a list of Atoms objects containing each configuration of the crystal."
   ]
  },
  {
   "cell_type": "code",
   "execution_count": 9,
   "id": "14b51320",
   "metadata": {},
   "outputs": [],
   "source": [
    "# Import dataset\n",
    "with open('CSD-7.pickle', 'rb') as f:\n",
    "    dataset = pickle.load(f)"
   ]
  },
  {
   "cell_type": "code",
   "execution_count": 10,
   "id": "88de757b",
   "metadata": {},
   "outputs": [
    {
     "data": {
      "application/vnd.jupyter.widget-view+json": {
       "model_id": "",
       "version_major": 2,
       "version_minor": 0
      },
      "text/plain": [
       "Processing crystals...:   0%|          | 0/7 [00:00<?, ?it/s]"
      ]
     },
     "metadata": {},
     "output_type": "display_data"
    },
    {
     "name": "stdout",
     "output_type": "stream",
     "text": [
      "Created directories and LAMMPS structure files for 7 crystals\n"
     ]
    }
   ],
   "source": [
    "# Make directories for each crystal structure and each configuration, and write Lammps structure files\n",
    "for name in tqdm(dataset.keys(), leave=False, desc=\"Processing crystals...\"):\n",
    "    for ifrm, frm in enumerate(dataset[name]):\n",
    "        makedirs(f\"crystal_data/{name}/{ifrm}/\", exist_ok=True) #create directories if they do not exist\n",
    "        ase.io.write(f\"crystal_data/{name}/{ifrm}/struct.in\", frm, format='lammps-data', \n",
    "                     specorder=['H','C','N','O']) #write lammps structure file\n",
    "\n",
    "print(f\"Created directories and LAMMPS structure files for {len(dataset.keys())} crystals\")"
   ]
  },
  {
   "cell_type": "markdown",
   "id": "b7451f82",
   "metadata": {},
   "source": [
    "We now need to create a LAMMPS input file to run the single-point calculation for the `struct.in` structure. As all the structure files have been given the same name, we actually only need to create one input file for the `lmp_mpi` (or `lmp_serial`) executable. This is because you can provide all the pair potentials from the previously-created `potential.table` file, and LAMMPS will only use the ones applicable to your system. Similarly, you can provide the mass of all elements (in this case 4 elements - H,C,N, and O) and LAMMPS will only use the masses corresponding to the elements that are present in your system. I know what you're thinking - Wow! Isn't life just easy sometimes? \n",
    "\n",
    "So let's make this input file for our crystal systems. If you're curious as to what each line means in the input file, as well as what you may need to change when applying this to your system of choice, please look at the file `templates/lammps_pp.in` and read the comments next to each line."
   ]
  },
  {
   "cell_type": "code",
   "execution_count": 11,
   "id": "c6c90a8c",
   "metadata": {},
   "outputs": [],
   "source": [
    "# Create LAMMPS input file\n",
    "lammps = \"boundary p p p\\n\" \n",
    "lammps += \"units           metal\\n\" # uses eV, Angstrom, picosend units\n",
    "lammps += \"atom_style      atomic\\n\\n\" \n",
    "\n",
    "lammps += \"read_data       struct.in\\n\" #read the struct.in file as the structure\n",
    "\n",
    "# Add masses of elements to the input file - note that H, C, N, and O are labelled 1, 2, 3, and 4, repsectively\n",
    "lammps += \"mass    1   1.008\\n\"\n",
    "lammps += \"mass    2   12.011\\n\"\n",
    "lammps += \"mass    3   14.007\\n\"\n",
    "lammps += \"mass    4   15.999\\n\\n\"\n",
    "\n",
    "# Add the pair potential table to input file\n",
    "lammps += \"pair_style table linear 3000\\n\"\n",
    "\n",
    "atom_labels = {'H':1, 'C':2, 'N':3, 'O':4} #Create dictionary of element-label pairs \n",
    "\n",
    "# You have to separately tell LAMMPS where to find each pair potential table within the potential.table file\n",
    "# Additionally, you need to give the element labels for which to apply each pair potential you provide\n",
    "# For example, looking at the first line added to the file here below (open it after executing this cell!), it says:\n",
    "# That LAMMPS should apply the pair potential table to dimers containing labels 1 and 1 (H and H)\n",
    "# To open the potential.table file at location /scratch/vprincip/pair_potentials/potential.table\n",
    "# That LAMMPS should use the table under the section labelled REPULSIVE_HH in the potential.table file\n",
    "# To only apply the potential up until a cutoff of distance of 0.751 - the max. distance value in the table for HH\n",
    "\n",
    "for dimer in dimer_ff:\n",
    "    lammps += f\"pair_coeff {atom_labels[dimer[0]]} {atom_labels[dimer[1]]} \"\n",
    "    lammps += f\"{basedir}potential.table REPULSIVE_{dimer[0]}{dimer[1]} \" \n",
    "    lammps += f\"{np.round(dimer_ff[dimer]['positions_inter'][-1], 3)}\\n\"\n",
    "\n",
    "lammps += \"\\ntimestep        1\\n\" # This doesn't matter, as we're not running dynamics\n",
    "lammps += \"thermo          1\\n\\n\"\n",
    "\n",
    "#Write output of forces (and positions) to a file called pp_forces.xyz\n",
    "lammps += \"dump myDump2 all custom 1 pp_forces.xyz type id x y z fx fy fz\\n\"\n",
    "\n",
    "lammps += \"run 0\" #we only want a single-point calculation\n",
    "\n",
    "with open(\"lammps_pp.in\", \"w\") as f:\n",
    "    f.write(lammps)"
   ]
  },
  {
   "cell_type": "markdown",
   "id": "96ce1056",
   "metadata": {},
   "source": [
    "## Run single-point calculations\n",
    "Woo! We now have the two files we need to calculate the energies and forces for each structure in our dataset using the newly-created pair potential. As the dataset is small and the potential is very cheap, running these calculations yourself should be pretty fast, even though there are some 700 of them.\n",
    "\n",
    "If you would like to run the calculations yourself, you will need a working version of LAMMPS. For more information on how to download and compile LAMMPS for your needs, please visit https://docs.lammps.org/Manual.html. Assuming you're not too sadistic, you probably want to run calculations by looping through the entire dataset while muting the typical LAMMPS output. Assuming that the `lmp` executable is in your $PATH, this can be done by going to the `crystal_data` directory of this project and executing the following:\n",
    "\n",
    "- *For MPI-compiled version of LAMMPS, assuming you have at least 4 cores (change the -np option for more/less cores)*:\n",
    "\n",
    "\n",
    "`for cryst in *; do cd $cryst; for config in *; do cd $config; mpirun -np 4 lmp_mpi -in ../../../lammps_pp.in > log.lammps; cd ..; done; echo \"Processed crystal $cryst\"; cd ..; done`\n",
    "\n",
    "- *For the serial-compiled version of LAMMPS*:\n",
    "\n",
    "`for cryst in *; do cd $cryst; for config in *; do cd $config; mpirun -np 4 lmp_serial < ../../../lammps_pp.in > log.lammps; cd ..; done; echo \"Processed crystal $cryst\"; cd ..; done`\n",
    "\n",
    "Now sit back, relax, and wait for your calculations to finish! :)\n",
    "\n",
    "But, if you don't want to wait till then, I offer you another option. Just like the rest of Gen Z, I have little to no patience and enjoy instant satisfaction. That's why I've decided to provide you with the data to just load into this notebook. One could (and should) say that I just invented time travel."
   ]
  },
  {
   "cell_type": "markdown",
   "id": "27616327",
   "metadata": {},
   "source": [
    "### Process or import results\n",
    "Let's create a dataset of results, in the form of a dicitonary. \n",
    "\n",
    "If you ran the calculations yourself, please execute the next cell.\n",
    "\n",
    "If you did **not** run the calculations yourself, please skip over the next cell and import the results."
   ]
  },
  {
   "cell_type": "code",
   "execution_count": 12,
   "id": "73b57512",
   "metadata": {},
   "outputs": [
    {
     "data": {
      "application/vnd.jupyter.widget-view+json": {
       "model_id": "",
       "version_major": 2,
       "version_minor": 0
      },
      "text/plain": [
       "Importing results...:   0%|          | 0/7 [00:00<?, ?it/s]"
      ]
     },
     "metadata": {},
     "output_type": "display_data"
    },
    {
     "name": "stdout",
     "output_type": "stream",
     "text": [
      "Imported 707 frames over 7 crystals.\n"
     ]
    }
   ],
   "source": [
    "#For importing your results, if you ran the calculations yourself\n",
    "pp_results = {} #create new database with pair potential results\n",
    "i = 0 ; j = 0 #keep count of number frames and crystals imported\n",
    "for name in tqdm(dataset.keys(), leave = False, desc='Importing results...'):\n",
    "    frames = []\n",
    "    for ifrm, frm in enumerate(dataset[name]):\n",
    "\n",
    "        #read lammps dump file with positions and forces\n",
    "        frame = ase.io.read(f\"{basedir}crystal_data/{name}/{ifrm}/pp_forces.xyz\", format=\"lammps-dump-text\", \n",
    "                    specorder=['H','C','N','O']) \n",
    "\n",
    "        #get energy from log.lammps output file\n",
    "        with open(f\"{basedir}crystal_data/{name}/{ifrm}/log.lammps\", \"r\") as file: \n",
    "            found = False\n",
    "            lines = file.readlines() \n",
    "            for iline, line in enumerate(lines): #read lines of file\n",
    "                    if \"TotEng\" in line and found == False:\n",
    "                        energy = float(lines[iline+1].split()[-2]) #get energy from file\n",
    "                        found = True\n",
    "            if found == False: #raise error if energy wasn't found\n",
    "                raise ValueError(f\"Energy not found for configuration {ifrm} of crystal {name}.\")\n",
    "\n",
    "        frame.info['Energy (eV)'] = energy #append energy info to frame\n",
    "        frames.append(frame) #add frame to all frames of the crystal\n",
    "        i += 1 #add frame to count\n",
    "\n",
    "    pp_results[name] = frames #add all frames of the crystal to the database of results\n",
    "    j += 1 #add crystal to cound\n",
    "    \n",
    "print(f\"Imported {i} frames over {j} crystals.\")\n",
    "\n",
    "#Save dataset\n",
    "with open('CSD-7_pp_results.xyz', 'wb') as f:\n",
    "    pickle.dump(pp_results, f)"
   ]
  },
  {
   "cell_type": "code",
   "execution_count": 13,
   "id": "87b4e4a6",
   "metadata": {
    "code_folding": []
   },
   "outputs": [],
   "source": [
    "# (Re)Load dataset, if you didn't run the calculations yourself\n",
    "with open('CSD-7_pp_results.xyz', 'rb') as f:\n",
    "    pp_results = pickle.load(f)"
   ]
  },
  {
   "cell_type": "markdown",
   "id": "8dc23420",
   "metadata": {},
   "source": [
    "## Analyse Results"
   ]
  },
  {
   "cell_type": "markdown",
   "id": "8c769e1e",
   "metadata": {},
   "source": [
    "Let's look at the forces calculated for a single system (\"ABUJUF\"). "
   ]
  },
  {
   "cell_type": "code",
   "execution_count": 14,
   "id": "04867c12",
   "metadata": {
    "code_folding": []
   },
   "outputs": [],
   "source": [
    "# Import all ABUJUF frames with results\n",
    "ABUJUF_frames = pp_results['ABUJUF']\n",
    "# Create a flattened array of all ABUJUF forces\n",
    "ABUJUF_forces = []\n",
    "for frm in ABUJUF_frames:\n",
    "    ABUJUF_forces.extend(frm.get_forces().flatten())"
   ]
  },
  {
   "cell_type": "code",
   "execution_count": 15,
   "id": "612b94fe",
   "metadata": {},
   "outputs": [
    {
     "data": {
      "image/png": "[encoded data removed]",
      "text/plain": [
       "<Figure size 500x400 with 1 Axes>"
      ]
     },
     "metadata": {},
     "output_type": "display_data"
    }
   ],
   "source": [
    "# Plot all forces\n",
    "plt.figure(figsize=(5,4), dpi=100)\n",
    "plt.hist(ABUJUF_forces, bins=15)\n",
    "plt.ylabel('Frequency')\n",
    "plt.xlabel('Force (eV/$\\AA$)')\n",
    "plt.yscale('log')"
   ]
  },
  {
   "cell_type": "code",
   "execution_count": 16,
   "id": "b3572974",
   "metadata": {},
   "outputs": [
    {
     "name": "stdout",
     "output_type": "stream",
     "text": [
      "Number of forces with a value of zero: 16446\n",
      "Percentage of forces with non-zero value: 43.5%\n"
     ]
    }
   ],
   "source": [
    "print(f\"Number of forces with a value of zero: {len(ABUJUF_forces)-np.count_nonzero(ABUJUF_forces)}\")\n",
    "print(f\"Percentage of forces with non-zero value: {(np.count_nonzero(ABUJUF_forces)/len(ABUJUF_forces))*100:.1f}%\")"
   ]
  },
  {
   "cell_type": "markdown",
   "id": "b017162c",
   "metadata": {},
   "source": [
    "Now you may be asking yourself: why are there so many forces with a value of zero? \n",
    "\n",
    "Well, as you may recall, this potential should only be used when two atoms come into close proximity. That is why we applied a cutoff distance in the LAMMPS input file, which was equal to the maximum distance in the pair potential table for a given dimer. This means that, if a central atom did not have any neighbouring atoms within the cutoff distance of the relevant pair potentials, LAMMPS will have calculated a force of zero for that atom.\n",
    "\n",
    "But can it really be that over 56% of atoms do not have any atoms within this cutoff? I say yes! Don't believe me? Well good for you, because first and foremost, you shouldn't just believe everything people tell you over the internet (or in person). That's how we got Brexit and Trump, after all. But also this is science, so we should really look at hard numbers.\n",
    "\n",
    "Let's look at all the interatomic distances in all the frames, and see how many atoms have at least **one** neighbour within the maximum cutoff distance of our pair potentials - the is the C-C cutoff distance of 1.286 Angstroms. We will also look at how many atoms have at least one neighbour within the H-H, N-H and O-H cutoff distances, taking the maximum cutoff of the three potentials at 1.053\n"
   ]
  },
  {
   "cell_type": "code",
   "execution_count": 17,
   "id": "10d2d5e1",
   "metadata": {},
   "outputs": [],
   "source": [
    "within_max_cutoff = 0 #tally of atoms that have one neighbour within the max. cutoff\n",
    "within_small_cutoff = 0 #tally of atoms that have one neighbour within the H-H, N-H and O-H cutoffs\n",
    "all_atom_centres = 0 #tally of all atoms\n",
    "for frm in ABUJUF_frames:\n",
    "    all_distances = frm.get_all_distances()\n",
    "    \n",
    "    for one_atom_centre in all_distances:\n",
    "        all_atom_centres += 1\n",
    "        \n",
    "        # Check if minimum distance (excluding the zero distance of the atom with itself) is within the max. cutoff\n",
    "        if min([i for i in one_atom_centre if i != 0]) < 1.286:\n",
    "            within_max_cutoff += 1\n",
    "        \n",
    "        # Check if minimum distance is within the cutoff of H-H, N-H and O-H potentials\n",
    "        if min([i for i in one_atom_centre if i != 0]) < 1.053:\n",
    "            within_small_cutoff +=1"
   ]
  },
  {
   "cell_type": "code",
   "execution_count": 18,
   "id": "177fbbf3",
   "metadata": {},
   "outputs": [
    {
     "name": "stdout",
     "output_type": "stream",
     "text": [
      "Total number of atoms with at least one neighbour within the maximum cutoff : 6141\n",
      "Percentage of atoms with at least one neighbour within the maximum cutoff : 63.3%\n"
     ]
    }
   ],
   "source": [
    "print(f\"Total number of atoms with at least one neighbour within the maximum cutoff : {within_max_cutoff}\")\n",
    "print(f\"Percentage of atoms with at least one neighbour within the maximum cutoff : {(within_max_cutoff/all_atom_centres)*100:.1f}%\")"
   ]
  },
  {
   "cell_type": "markdown",
   "id": "0c293586",
   "metadata": {},
   "source": [
    "So why is this percentage higher than the 43.5% of non-zero forces we had calculated earlier? Well, we set a cutoff of 1.286 angstroms for **all atom pairs**, although that is only the maximum cutoff for the C-C pair. Other cutoff distances range from 0.751 angstroms (for H-H) to 1.230 (for O-O). Let's take a look at the percentage of atoms with at least one neighbour within the H-H, N-H and O-H cutoffs."
   ]
  },
  {
   "cell_type": "code",
   "execution_count": 19,
   "id": "d83e48df",
   "metadata": {},
   "outputs": [
    {
     "name": "stdout",
     "output_type": "stream",
     "text": [
      "Percentage of atoms with at least one neighbour within the H-H, N-H, and O-H cutoffs : 18.9%\n"
     ]
    }
   ],
   "source": [
    "print(f\"Percentage of atoms with at least one neighbour within the H-H, N-H, and O-H cutoffs : {(within_small_cutoff/all_atom_centres)*100:.1f}%\")"
   ]
  },
  {
   "cell_type": "markdown",
   "id": "2b33bfc7",
   "metadata": {},
   "source": [
    "From this lens, the percentage of non-zero forces at 43.5% makes a lot more sense!\n",
    "\n",
    "So nothing to worry about here, moving along..."
   ]
  },
  {
   "cell_type": "markdown",
   "id": "5d2722e0",
   "metadata": {},
   "source": [
    "## Subtracting pair potential energies and forces from the dataset"
   ]
  },
  {
   "cell_type": "markdown",
   "id": "997cf2a8",
   "metadata": {},
   "source": [
    "Now that we have the pair potential's energy and force calculations, we need to subtract these values from the dataset before creating the GAP model. This is because these energies and forces would essentially be calculated twice during simulations if we kept them in the dataset. If you don't understand why this is necessary, please read this wonderful analogy below.\n",
    "\n",
    ">*It's like weighing a basket of dolphins. I want to find the sum of masses of all dolphins in the basket. However, my scale is not accurate below a certain (critical) mass, and I have one dolphin that falls below this mass. You, on the other hand, have this fancy scale that is accurate up to this critical mass, but inaccurate above it. So, I give you the light dolphin to weigh, and write down your result. It wouldn't make sense for me to now weigh all the dolphins, as that would mean that your dolphin would be weighed twice. I need to weigh all the dolphins except yours, and then combine results. Voilà - the sum of all the dolphins' mass is equivalent to the total energies and forces in the dataset (previously calculated using DFT-D2), and your dolphin is equivalent to the energies and forces provided by the pair potential. I need to subtract the pair potential energies and forces from the dataset, so that when the two potentials (equivalent to the low and high mass weighing scales) are combined during MD, the energies and forces stack up to the correct sum (total mass of dolphins).*"
   ]
  },
  {
   "cell_type": "markdown",
   "id": "35dbfc10",
   "metadata": {},
   "source": [
    "To simplify things, let's add the force and energy data to our original dataset. When doing this, let's first ensure that the correct information is being added to the correct frame by checking that the positions of the atoms in the original dataset and in the results are equal. To do this, we also need to set the cell parameters of the original dataset equal to that of the results dataset, and wrap atoms inside, as ASE might have applied some transformation to each cell when creating LAMMPS input files."
   ]
  },
  {
   "cell_type": "code",
   "execution_count": 20,
   "id": "a5f3ed48",
   "metadata": {},
   "outputs": [
    {
     "data": {
      "application/vnd.jupyter.widget-view+json": {
       "model_id": "",
       "version_major": 2,
       "version_minor": 0
      },
      "text/plain": [
       "Adding LAMMPS force/energy info to original dataset:   0%|          | 0/7 [00:00<?, ?it/s]"
      ]
     },
     "metadata": {},
     "output_type": "display_data"
    },
    {
     "name": "stdout",
     "output_type": "stream",
     "text": [
      "Added LAMMPS pair potential results to the original dataset.\n"
     ]
    }
   ],
   "source": [
    "# Add lammps results to original dataset\n",
    "for name in tqdm(dataset.keys(), leave=False, desc='Adding LAMMPS force/energy info to original dataset'):\n",
    "    for ifrm, frm in enumerate(dataset[name]):\n",
    "        # ASE might have applied a transformation to the cell when creating LAMMPS input files\n",
    "        # First need to set the cell lengths and angles equal in the original dataset and then wrap positions\n",
    "        frame_copy = frm.copy() # Only check equality on copy of frame, so as to not alter cell of original dataset\n",
    "        frame_copy.set_cell(pp_results[name][ifrm].get_cell())\n",
    "        frame_copy.wrap(eps=1e-13) #wrap atoms inside the unit cell\n",
    "        \n",
    "        # Add lammps results to original dataset only if atom positions in original dataset and results are equal\n",
    "        if np.allclose(pp_results[name][ifrm].get_positions(), \n",
    "                       frame_copy.get_positions(), rtol=1e-5) == True:  \n",
    "            frm.set_array('pp_forces', pp_results[name][ifrm].get_forces()) #add forces to frame\n",
    "            frm.info['lammps_pp_energy'] = pp_results[name][ifrm].info['Energy (eV)'] #add energy to frame\n",
    "        \n",
    "        # Ignore numerical errors where max difference in positions is equal to a cell length (up to 10th decimal)\n",
    "        elif np.round(np.max(pp_results[name][ifrm].get_positions()\n",
    "                             - frame_copy.get_positions()), 10) in frm.cell.cellpar()[0:3]:\n",
    "            frm.set_array('pp_forces', pp_results[name][ifrm].get_forces()) #add forces to frame\n",
    "            frm.info['lammps_pp_energy'] = pp_results[name][ifrm].info['Energy (eV)'] #add energy to frame\n",
    "        \n",
    "        # Otherwise, raise a ValueError if positions of atoms are not equal\n",
    "        else:\n",
    "            raise ValueError(f\"Positions of atoms are not equal for configuration {ifrm} of crystal {name}.\")\n",
    "\n",
    "print(\"Added LAMMPS pair potential results to the original dataset.\")"
   ]
  },
  {
   "cell_type": "markdown",
   "id": "437098bd",
   "metadata": {},
   "source": [
    "Let's also append the delta (in both energies and forces) between the original dataset and the LAMMPS pair potential results, so that we don't have to call the operation too often in the future and make all our code look clunky. "
   ]
  },
  {
   "cell_type": "code",
   "execution_count": 21,
   "id": "c89fb9e7",
   "metadata": {},
   "outputs": [],
   "source": [
    "# Add force and energy deltas to each frame\n",
    "for name in dataset.keys():\n",
    "    for frm in dataset[name]:\n",
    "        frm.info['delta_energy'] = frm.info['energy'] - frm.info['lammps_pp_energy'] # add energy delta\n",
    "        frm.set_array('delta_forces', (frm.get_array('forces') - frm.get_array('pp_forces'))) # add force delta"
   ]
  },
  {
   "cell_type": "code",
   "execution_count": 22,
   "id": "dfa42ac7",
   "metadata": {},
   "outputs": [],
   "source": [
    "# Save original dataset with new pair potential info\n",
    "with open('CSD-7_combined_w_pp_results.pickle', 'wb') as f:\n",
    "    pickle.dump(dataset, f)"
   ]
  },
  {
   "cell_type": "markdown",
   "id": "870616e7",
   "metadata": {},
   "source": [
    "And so we have our dataset! With this, we can now continue on to create a (dummy) GAP potential and run simulations with both the LAMMPS pair potential and the GAP potential. "
   ]
  },
  {
   "cell_type": "markdown",
   "id": "bc134f05",
   "metadata": {},
   "source": [
    "# Create GAP Potential\n",
    "Let's create our GAP potential! Isn't it crazy that the huge conglomerate that is GAP is now essentially getting *free* marketing in the atomistic ML space? I mean the number of GAPs in your city can probably be modelled as a Gaussian distribution with mean 5 - they definitely don't need our help!\n",
    "\n",
    "Ok, enough of this malarky, let's get back on track. I assume you already know the basics of how to produce a GAP potential because otherwise you probably wouldn't be here. If that's not the case, I adivse you go delve into any one of the countless papers and tutorials on how to create a GAP potential that can be found online. They will probably explain the theory and creation of them in a far better (and, let's face it, less funny) manner than I ever could.\n",
    "\n",
    "In this tutorial, we will be using the `librascal` helper tools for creating GAP potentials, which was developed by the COSMO lab at EPFL in Lausanne, Switzerland. Please find the COSMO webpage at https://www.epfl.ch/labs/cosmo/ and follow the installation instructions of `librascal` at https://github.com/lab-cosmo/librascal if you don't already have it installed."
   ]
  },
  {
   "cell_type": "markdown",
   "id": "3fd7b7eb",
   "metadata": {},
   "source": [
    "## Create train and test sets, and baselined energy model"
   ]
  },
  {
   "cell_type": "markdown",
   "id": "32f0ff63",
   "metadata": {},
   "source": [
    "First, let's split our dataset into a training set and testing set. We will use a 90:10 train:test split in this case."
   ]
  },
  {
   "cell_type": "code",
   "execution_count": 23,
   "id": "f970aa75",
   "metadata": {},
   "outputs": [],
   "source": [
    "# Add all frames in the dataset to a list\n",
    "dataset_frames = []\n",
    "for name in dataset.keys():\n",
    "    dataset_frames.extend(dataset[name])\n",
    "\n",
    "for frm in dataset_frames:\n",
    "    frm.wrap(eps=1e-13) # Necessary to wrap the frames for Librascal later\n",
    "\n",
    "ids = np.arange(len(dataset_frames)) #Attribute an ID to each frame\n",
    "np.random.seed(5) #Use random seed to make results reproducible\n",
    "np.random.shuffle(ids) #Shuffle IDs\n",
    "\n",
    "#Let's use 71 frames (about 10%) for testing, and the rest for training\n",
    "test_ids = ids[:71]\n",
    "train_ids = ids[71:]\n",
    "\n",
    "#Create new train and test sets, as well as energy deltas (y) attributed to both\n",
    "test_frames = [dataset_frames[num] for num in test_ids]\n",
    "train_frames = [dataset_frames[num] for num in train_ids]"
   ]
  },
  {
   "cell_type": "markdown",
   "id": "233a9fe4",
   "metadata": {},
   "source": [
    "As it is easier for the model to learn once the energies have been baselined (i.e. the mean per-atom energy is removed for each frame), we need to create a small model to that learns these per-atom energies on the *entire* dataset. To do this, we need to create a matrix that has each structure as its rows and the number of atoms of a certain species in that structure as its columns. We also need to extract the delta energies (y) to be learned. As we will need compositions, delta energies, and forces for our train and test sets later, let's extract those too."
   ]
  },
  {
   "cell_type": "code",
   "execution_count": 24,
   "id": "e59621bd",
   "metadata": {},
   "outputs": [],
   "source": [
    "# Create matrix of dataset composition (X_dataset) and energies (y_dataset)\n",
    "X_dataset = np.zeros((len(dataset_frames), 4), dtype=int) #Create empty matrix for compositions\n",
    "y_dataset = np.zeros(len(dataset_frames)) #Create empty array\n",
    "\n",
    "for ifrm, frm in enumerate(dataset_frames):\n",
    "    symbols = frm.get_atomic_numbers()\n",
    "    X_dataset[ifrm] = [len(np.where(symbols == sp)[0]) for sp in [1,6,7,8]] #Append composition of each frame\n",
    "    y_dataset[ifrm] = frm.info['delta_energy'] #Append energy (to be learned) of each frame"
   ]
  },
  {
   "cell_type": "code",
   "execution_count": 25,
   "id": "d2edcebc",
   "metadata": {},
   "outputs": [],
   "source": [
    "# Get train set energies, forces, and composition\n",
    "X_train = np.zeros((len(train_frames), 4), dtype=int) # Create empty matrix for compositions\n",
    "y_train = np.zeros(len(train_frames)) # Create empty array for train set energies\n",
    "forces_train = np.zeros((np.sum([len(frm) for frm in train_frames]),3)) # Create empty matrix for train set forces\n",
    "\n",
    "iat = 0 # Keep count of atoms\n",
    "for ifrm,frm in enumerate(train_frames):\n",
    "    symbols = frm.get_atomic_numbers()\n",
    "    X_train[ifrm] = [len(np.where(symbols == sp)[0]) for sp in [1,6,7,8]] # Append composition of each frame\n",
    "    y_train[ifrm] = frm.info['delta_energy'] # Append energy (delta) of the frame\n",
    "    forces_train[iat:iat+len(frm)] = frm.get_array('delta_forces') # Append forces of the frame\n",
    "    iat += len(frm)\n",
    "\n",
    "# Get test set energies, forces, and composition\n",
    "X_test = np.zeros((len(test_frames), 4), dtype=int) # Create empty matrix for compositions\n",
    "y_test = np.zeros(len(test_frames)) # Create empty array for train set energies\n",
    "forces_test = np.zeros((np.sum([len(frm) for frm in test_frames]),3)) # Create empty matrix for train set forces\n",
    "\n",
    "iat = 0 # Keep count of atoms\n",
    "for ifrm,frm in enumerate(test_frames):\n",
    "    symbols = frm.get_atomic_numbers()\n",
    "    X_test[ifrm] = [len(np.where(symbols == sp)[0]) for sp in [1,6,7,8]] # Append composition of each frame\n",
    "    y_test[ifrm] = frm.info['delta_energy'] # Append energy (delta) of the frame\n",
    "    forces_test[iat:iat+len(frm)] = frm.get_array('delta_forces') # Append forces of the frame\n",
    "    iat += len(frm)"
   ]
  },
  {
   "cell_type": "code",
   "execution_count": 26,
   "id": "73f9392c",
   "metadata": {},
   "outputs": [
    {
     "name": "stdout",
     "output_type": "stream",
     "text": [
      "Per-atom energies in dataset:\n",
      "H = -16.13106 eV/atom\n",
      "C = -154.84066 eV/atom\n",
      "N = -383.34327 eV/atom\n",
      "O = -566.82217 eV/atom\n"
     ]
    }
   ],
   "source": [
    "# Create small model to baseline energies\n",
    "mlr = Ridge(alpha=1E-4, fit_intercept=False)\n",
    "mlr.fit(X_dataset, y_dataset) #Fit simple ridge regression model\n",
    "\n",
    "print(\"Per-atom energies in dataset:\")\n",
    "for spec, coeff in zip(['H', 'C', 'N', 'O'], mlr.coef_):\n",
    "      print(f\"{spec} = {np.round(coeff, 5)} eV/atom\")\n",
    "\n",
    "#Create dictionary of per-atom energies\n",
    "y_dressed = {}\n",
    "for i,j in enumerate([1,6,7,8]):\n",
    "    y_dressed[j] = mlr.coef_[i]"
   ]
  },
  {
   "cell_type": "markdown",
   "id": "9e55bd85",
   "metadata": {},
   "source": [
    "##  Train GAP Potential"
   ]
  },
  {
   "cell_type": "markdown",
   "id": "71bc8d87",
   "metadata": {},
   "source": [
    "In this model, we will use the smooth overlap of atomic positions (SOAP) representation for the crystal structures, with quite cheap hyperparameters. Feel free to adjust these, but to be honest there's only so much milk you can squeeze out of the poor cow that is this dummy GAP model we're creating!"
   ]
  },
  {
   "cell_type": "code",
   "execution_count": 27,
   "id": "06e8c590",
   "metadata": {},
   "outputs": [],
   "source": [
    "#Define SOAP hyperparameters\n",
    "hypers = dict(soap_type=\"PowerSpectrum\",\n",
    "              interaction_cutoff=4, #cutoff distance in angstroms\n",
    "              max_radial=6, #no. of radial basis functions\n",
    "              max_angular=4, #no. of angular basis functions\n",
    "              gaussian_sigma_constant=0.4, #sigma width (i.e. amount of 'smearing')\n",
    "              gaussian_sigma_type=\"Constant\",\n",
    "              cutoff_function_type=\"RadialScaling\",\n",
    "              cutoff_smooth_width=0.5,\n",
    "              cutoff_function_parameters=\n",
    "                    dict(\n",
    "                            rate=1,\n",
    "                            scale=2,\n",
    "                            exponent=4\n",
    "                        ),\n",
    "              radial_basis=\"GTO\",\n",
    "              normalize=True,\n",
    "              optimization=\n",
    "                    dict(\n",
    "                            Spline=dict(\n",
    "                               accuracy=1.0e-05\n",
    "                            )\n",
    "                        ),\n",
    "              compute_gradients=False \n",
    "              )\n",
    "soap = SphericalInvariants(**hypers) #Define soap using the hyperparameters above"
   ]
  },
  {
   "cell_type": "markdown",
   "id": "99141466",
   "metadata": {},
   "source": [
    "We can now move ahead with computing the features matrices, obtain the sparse points, computing the $K_{NM}$ matrix, and then creating the GAP potential. If you're lazy (or too busy!), you can just skip ahead a few cells and load the final model (`model`). If you want to create the model yourself, just be aware that calculating the sparse points (`X_sparse`) and the $K_{NM}$ matrix (`Knm`) can take a hop, skip and a jump on time basis... (in human terms, this is equal to 30 minutes on a quad-core Intel Xeon E3 CPU)."
   ]
  },
  {
   "cell_type": "code",
   "execution_count": 41,
   "id": "d2b96826",
   "metadata": {},
   "outputs": [
    {
     "name": "stdout",
     "output_type": "stream",
     "text": [
      "Computed feature matrices.\n"
     ]
    }
   ],
   "source": [
    "# Compute feature matrices\n",
    "manager_train = soap.transform(train_frames) #calculating features\n",
    "print(\"Computed feature matrices.\")"
   ]
  },
  {
   "cell_type": "code",
   "execution_count": 42,
   "id": "72f26343",
   "metadata": {},
   "outputs": [
    {
     "name": "stdout",
     "output_type": "stream",
     "text": [
      "Sparsifying training set...\n",
      "Done. Time taken: 35.928229331970215 s\n"
     ]
    }
   ],
   "source": [
    "# Use an FPS filter to obtain 1000 sparse points per species (this may take a minute)\n",
    "nsparse    = {1: 1000, 6: 1000, 7: 1000, 8: 1000} #Get 1000 sparse per species\n",
    "compressor = FPSFilter(soap,nsparse,act_on='sample per species') #Define the filter\n",
    "\n",
    "print(\"Sparsifying training set...\")\n",
    "start=time()\n",
    "X_sparse = compressor.select_and_filter(manager_train) #Apply filter to training set\n",
    "print(\"Done. Time taken:\", time()-start, \"s\")"
   ]
  },
  {
   "cell_type": "code",
   "execution_count": 28,
   "id": "8972ec21",
   "metadata": {},
   "outputs": [],
   "source": [
    "# Redefine hypers \n",
    "hypers[\"compute_gradients\"] = True # We want to compute gradients (forces) for the kernel\n",
    "soap = SphericalInvariants(**hypers) # Redefine soap with updated hypers\n",
    "kernel = Kernel(soap, name='GAP', zeta=2, target_type='Structure', kernel_type='Sparse') #Define Kernel"
   ]
  },
  {
   "cell_type": "code",
   "execution_count": 44,
   "id": "5b0e9d40",
   "metadata": {},
   "outputs": [
    {
     "data": {
      "application/vnd.jupyter.widget-view+json": {
       "model_id": "",
       "version_major": 2,
       "version_minor": 0
      },
      "text/plain": [
       "Compute KNM:   0%|          | 0/636 [00:00<?, ?it/s]"
      ]
     },
     "metadata": {},
     "output_type": "display_data"
    },
    {
     "name": "stdout",
     "output_type": "stream",
     "text": [
      "Computed K_NM matrix. Time taken: 1561.6383447647095 s\n"
     ]
    }
   ],
   "source": [
    "#Compute the K_NM matrix (this will take a while!)\n",
    "start=time()\n",
    "Knm = compute_KNM(tqdm(train_frames, desc=\"Compute KNM\", leave=False), X_sparse, kernel, soap) # Compute K_NM\n",
    "print(f\"Computed K_NM matrix. Time taken: {time()-start} s\")"
   ]
  },
  {
   "cell_type": "code",
   "execution_count": 45,
   "id": "9afcd3c0",
   "metadata": {},
   "outputs": [],
   "source": [
    "# Save the K_NM matrix and the sparse points\n",
    "makedirs('gap_data/', exist_ok=True)\n",
    "dump_obj('gap_data/X_sparse.json', X_sparse) # Save sparse points\n",
    "np.save('gap_data/Knm_matrix', Knm) # Save Knm matrix"
   ]
  },
  {
   "cell_type": "code",
   "execution_count": 46,
   "id": "72e69642",
   "metadata": {},
   "outputs": [],
   "source": [
    "# Load the K_NM matrix and the sparse points - only in case of re-training the model\n",
    "X_sparse = load_obj('gap_data/X_sparse.json')\n",
    "Knm = np.load('gap_data/Knm_matrix.npy')"
   ]
  },
  {
   "cell_type": "markdown",
   "id": "4aaba063",
   "metadata": {},
   "source": [
    "And now we train the GAP potential, and save it a file to be used in our simulations!"
   ]
  },
  {
   "cell_type": "code",
   "execution_count": 47,
   "id": "486e0dd5",
   "metadata": {},
   "outputs": [
    {
     "name": "stdout",
     "output_type": "stream",
     "text": [
      "Training GAP model...\n",
      "Done. Time taken: 32.665955543518066s\n",
      "Model saved.\n"
     ]
    }
   ],
   "source": [
    "#Train GAP model\n",
    "print(\"Training GAP model...\")\n",
    "start = time()\n",
    "model = train_gap_model(kernel, train_frames, Knm, X_sparse, y_train, y_dressed, \n",
    "                        grad_train= -forces_train, lambdas=[0.01,0.1], jitter=1e-9)\n",
    "print(f\"Done. Time taken: {time()-start}s\")\n",
    "\n",
    "#Save model\n",
    "dump_obj('GAP_model.json', model)\n",
    "print(\"Model saved.\")"
   ]
  },
  {
   "cell_type": "markdown",
   "id": "c5c0c899",
   "metadata": {},
   "source": [
    "For those who have skipped ahead -- **reload the GAP model here**."
   ]
  },
  {
   "cell_type": "code",
   "execution_count": 31,
   "id": "69f0a804",
   "metadata": {},
   "outputs": [],
   "source": [
    "#(Re)Load model\n",
    "model = load_obj('GAP_model.json')\n",
    "\n",
    "# Redefine hypers and soap -- for making predictions, in case the cell wasn't run earlier\n",
    "hypers[\"compute_gradients\"] = True # We want to compute gradients (forces) for the kernel\n",
    "soap = SphericalInvariants(**hypers) # Redefine soap with updated hypers"
   ]
  },
  {
   "cell_type": "markdown",
   "id": "59b1351a",
   "metadata": {},
   "source": [
    "Woop dee doop, we have our model and pair potential, and hence we can now use these two in parallel to run simulations using our favourite universal force engine: i-PI!\n",
    "\n",
    "But before we do that, let's make sure that the model is working correctly by making force and energy predictions on the test set we created earlier."
   ]
  },
  {
   "cell_type": "code",
   "execution_count": 32,
   "id": "34caf05b",
   "metadata": {
    "scrolled": true
   },
   "outputs": [
    {
     "data": {
      "application/vnd.jupyter.widget-view+json": {
       "model_id": "",
       "version_major": 2,
       "version_minor": 0
      },
      "text/plain": [
       "Making predictions for test set...:   0%|          | 0/71 [00:00<?, ?it/s]"
      ]
     },
     "metadata": {},
     "output_type": "display_data"
    },
    {
     "name": "stdout",
     "output_type": "stream",
     "text": [
      "Time taken for making energy and force predictions on 71 frames: 24.846714735031128 s\n"
     ]
    }
   ],
   "source": [
    "# Predict energies and forces for test set\n",
    "\n",
    "y_pred = [] #create empty list for energy predictions\n",
    "forces_pred = [] #create empty list for forces predictions\n",
    "\n",
    "start=time()\n",
    "\n",
    "for ifrm, frm in enumerate(tqdm(test_frames, desc = \"Making predictions for test set...\", leave=False)):\n",
    "    manager_test = soap.transform(frm) # Calculate SOAP feature vectors\n",
    "    y_pred.append(model.predict(manager_test)) # Predict energies\n",
    "    forces_pred.append(model.predict_forces(manager_test)) # Predict forces\n",
    "\n",
    "print(f\"Time taken for making energy and force predictions on {len(test_frames)} frames: {time()-start} s\")\n",
    "\n",
    "# Transform results into suitable form for later\n",
    "y_pred = np.array(y_pred).flatten() \n",
    "forces_pred = np.concatenate(forces_pred)"
   ]
  },
  {
   "cell_type": "code",
   "execution_count": 33,
   "id": "4e642e93",
   "metadata": {},
   "outputs": [
    {
     "data": {
      "image/png": "[encoded data removed]",
      "text/plain": [
       "<Figure size 800x400 with 2 Axes>"
      ]
     },
     "metadata": {},
     "output_type": "display_data"
    }
   ],
   "source": [
    "# Plot predicted vs. actual energies and forces for the test set\n",
    "\n",
    "# Calculate baseline and number of atoms for each frame\n",
    "baseline = mlr.predict(X_test)\n",
    "n_atoms = np.sum(X_test, axis=1)\n",
    "\n",
    "f,p = plt.subplots(1,2, figsize = (8, 4), dpi=100)\n",
    "p[0].scatter((y_test - baseline)/n_atoms, (y_pred - baseline)/n_atoms) #plot energies\n",
    "p[0].plot([-0.12, 0.05], [-0.12, 0.05], c='red') #plot x=y line\n",
    "p[0].set_title('Energies (eV)')\n",
    "p[1].scatter(forces_test.flatten(), forces_pred.flatten()) #plot forces\n",
    "p[1].plot([-4.75, 4.75], [-4.75, 4.75], c='red') #plot x=y line\n",
    "p[1].set_title(r'Forces (ev/$\\AA$)')\n",
    "plt.show()"
   ]
  },
  {
   "cell_type": "code",
   "execution_count": 34,
   "id": "d6523510",
   "metadata": {},
   "outputs": [
    {
     "name": "stdout",
     "output_type": "stream",
     "text": [
      "Energy RMSE: 0.0017837841354932475 eV/atom\n",
      "Force RMSE: 0.24771427346838434 eV/Angstrom\n"
     ]
    }
   ],
   "source": [
    "print(f\"Energy RMSE: {np.sqrt(np.mean(((y_test - baseline)/n_atoms - (y_pred - baseline)/n_atoms)**2))} eV/atom\")\n",
    "print(f\"Force RMSE: {np.sqrt(np.mean((forces_test.flatten() - forces_pred.flatten())**2))} eV/Angstrom\")"
   ]
  },
  {
   "cell_type": "markdown",
   "id": "82b246d4",
   "metadata": {},
   "source": [
    "Don't worry about the small tropical islands in the energies above - that's just because we've only used seven crystals in our training and test sets, and configurations of the same crystal have similar binding energies. All in all, the force and energy predictions actually seem pretty great! But don't give the model too much credit - these are predictions on novel configurations of the same crystals the model was trained on. I'm sure if we made predictions on organic crystals outside the training set it would perform more poorly than Jeff Bezos's tax returns. "
   ]
  },
  {
   "cell_type": "markdown",
   "id": "082774d6",
   "metadata": {},
   "source": [
    "# Running Simulations with i-PI"
   ]
  },
  {
   "cell_type": "markdown",
   "id": "e0baa9fc",
   "metadata": {},
   "source": [
    "We will be running path integral molecular dynamics (PIMD) using the true and tested software of i-PI. Words can't explain how good i-PI is for running PIMD. Honestly, I wish I could rationally explain the beauty of its code, but I can't. After all, PI is irrational! So you'll have to see it to believe it. If you haven't got a working version of i-PI, you can read more about it and follow the download instructions at http://ipi-code.org.\n"
   ]
  },
  {
   "cell_type": "markdown",
   "id": "cf3b914f",
   "metadata": {},
   "source": [
    "## Prepare simulation files"
   ]
  },
  {
   "cell_type": "markdown",
   "id": "85bf0a24",
   "metadata": {},
   "source": [
    "So, let's run simulations on the same crystal we were looking at earlier, which goes by the name of \"ABUJUF\". The i-PI input template can be found at `templates/i-pi_input.xml`, and the LAMMPS input can be found at `templates/lammps_md.in`. Let's run dynamics starting from a random ABUJUF configuration, let's say 11. Feel free to change this to your favourite number! The `struct.in` file from this configuration will be added to the `ABUJUF_PIMD/` directory, as that is where we will run simulations. The `lammps_md.in` and `i-pi_input.xml` files have already been added to the directory. \n",
    "\n",
    "We need to create an i-PI-readable structure in XYZ format, as well as a Librascal-readable structure in extended-XYZ format, which we can create here below using ASE."
   ]
  },
  {
   "cell_type": "code",
   "execution_count": 35,
   "id": "97a47634",
   "metadata": {},
   "outputs": [],
   "source": [
    "# Write frame in extended XYZ format for Librascal, and copy LAMMPS-readable frame to the simulation directory\n",
    "configuration = 11 #choose starting configuration\n",
    "copy(f\"crystal_data/ABUJUF/{configuration}/struct.in\", f\"ABUJUF_PIMD/struct.in\") #copy structure file to simulation directory\n",
    "\n",
    "frame = dataset['ABUJUF'][configuration].copy() #get copy of frame\n",
    "frame.set_array('forces', None) #Remove forces from frame\n",
    "cell = frame.cell.cellpar()\n",
    "\n",
    "#Write i-PI-readable format\n",
    "ase.io.write('ABUJUF_PIMD/struct.xyz', frame, format='xyz',\n",
    "            comment=f\"# CELL(abcABC): {' '.join([str(c) for c in cell])}\"\" positions{angstrom} cell{angstrom}\") \n",
    "\n",
    "#Write Librascal-readable format\n",
    "ase.io.write('ABUJUF_PIMD/struct.extxyz', frame, format='extxyz', \n",
    "             columns=['symbols', 'positions'], write_info=False) #Write frame with only positions information"
   ]
  },
  {
   "cell_type": "markdown",
   "id": "526004a9",
   "metadata": {},
   "source": [
    "Let's quickly take a look at the `i-pi_input.xml` file. If you understand how to read the file, then great! Otherwise, please follow the link above and do some googling to figure out what each line means. Don't want to? Fine, I'll tell you the gist of what it says. \n",
    "\n",
    "We will be running simulations in the NVT ensemble at 300 K for 100 steps. We will be using only 4 beads for this simulation, just to speed things up. Please note that if you want to run proper statistical sampling, you should use 32 beads for full PIMD (or you can use 6 beads with a PIGLET thermostat). If you look at the `<ffsocket>` sections of the input, you will see that we are using two drivers. The first is the LAMMPS pair potential, which has been attributed to the socket address `lammps`. The second is the GAP potential, which has been attributed to the socket address `gap`. Under the `<forces>` section of the input, it says that each potential has been given a weighting of `1.0`. This is because the LAMMPS energies and forces were subtracted from the dataset used to train the GAP potential, and so the predictions from the two potentials must be summed during simulations to give the total energies and forces."
   ]
  },
  {
   "cell_type": "markdown",
   "id": "db666dc8",
   "metadata": {},
   "source": [
    "Lastly, to simplify things, I've created a job script that we can just bash to start and run our simulation. If you open up the file, the comments next to each line explain what each line does. Let's just take a closer look at the lines which start up the two potentials:"
   ]
  },
  {
   "cell_type": "code",
   "execution_count": 36,
   "id": "1956c1d8",
   "metadata": {},
   "outputs": [
    {
     "name": "stdout",
     "output_type": "stream",
     "text": [
      "lmp_mpi -in lammps_md.in > log.lammps & # Start the LAMMPS driver, output log to \"log.lammps\"\n",
      "\n",
      "i-pi-py_driver -u -a gap -m rascal -o ../GAP_model.json,struct.extxyz > log.gap & # Start the Librascal driver, output log to \"log.gap\"\n",
      "\n"
     ]
    }
   ],
   "source": [
    "# Read lines of run.sh file\n",
    "with open('ABUJUF_PIMD/run.sh', 'r') as f:\n",
    "    for iline, line in enumerate(f.readlines()):\n",
    "        if iline == 4 or iline == 6:\n",
    "            print(line)"
   ]
  },
  {
   "cell_type": "markdown",
   "id": "790a8f83",
   "metadata": {},
   "source": [
    "The first line starts up the LAMMPS pair potential that we created in the first part of this tutorial. Please note that you may have to change `lmp_mpi` to the path of your LAMMPS executable, unless it is already in your path. Secondly, in the `lammps_md.in` file, you should make sure that the socket address (`lammps`) in the `fix 1 all ipi `**`lammps`**`  1234 unix` line is the same as the LAMMPS socket address in the i-PI input file  (it should be, unless you've changed something...).\n",
    "\n",
    "The second line starts up the Librascal GAP potential we created in the third part of this notebook. The `-a `**`gap`** option specifies that the socket address it should be attributed to is `gap`. The `-o ../../GAP_model.json,struct.extxyz` option should specify the path to the GAP potential and the Librascal-readable (extended XYZ) input structure, which should be comma-separated."
   ]
  },
  {
   "cell_type": "markdown",
   "id": "80727380",
   "metadata": {},
   "source": [
    "## Run Simulation"
   ]
  },
  {
   "cell_type": "markdown",
   "id": "a996cec5",
   "metadata": {},
   "source": [
    "Here we are! You can now execute a simple `bash run.sh` in the `ABUJUF_PIMD/` directory and watch those atoms jiggle! (Ok you won't actually see them jiggle, but use your imagination to picture it! Or  better, get some groovy tunes on and jiggle yourself to get in the simulation mood!)\n",
    "\n",
    "Please note that this will probably take a few minutes. You can also monitor the progress of the simulation by either opening a new terminal window, going to the simulation directory, and executing `tail -f simulation.out`.\n",
    "\n",
    "Once it's done, let's take a look at the simulation output and positions of the first replica - `simulation.out` and `simulation.pos_0.xyz`. If you ran the simulation, but your dog accidentally licked your hard drive and perfectly destroyed the bytes pertaining to the simulation, you can skip the next cell and load the files `sim_copy.out` and `sim_copy.pos_0.xyz`. We can then use our favourite widget, Chemiscope, to view the trajectory. If you haven't done so yet, please install the chemiscope package with a simple `pip install chemiscope`.If you would like to find out more about the chemiscope project, please read further at https://chemiscope.org."
   ]
  },
  {
   "cell_type": "code",
   "execution_count": 37,
   "id": "a407aac5",
   "metadata": {},
   "outputs": [],
   "source": [
    "# Read trajectory - if you ran the simulation yourself\n",
    "trajectory = ase.io.read('ABUJUF_PIMD/simulation.pos_0.xyz', ':')\n",
    "sim_outfile = 'ABUJUF_PIMD/simulation.out'"
   ]
  },
  {
   "cell_type": "code",
   "execution_count": 38,
   "id": "0a37f248",
   "metadata": {},
   "outputs": [],
   "source": [
    "# Read trajectory - if the dog destroyed simulation \n",
    "trajectory = ase.io.read('ABUJUF_PIMD/sim_copy.pos_0.xyz', ':')\n",
    "sim_outfile = 'ABUJUF_PIMD/sim_copy.out'"
   ]
  },
  {
   "cell_type": "code",
   "execution_count": 39,
   "id": "814fa512",
   "metadata": {},
   "outputs": [
    {
     "name": "stdout",
     "output_type": "stream",
     "text": [
      "Properties of the ABUJUF simulation:\n"
     ]
    },
    {
     "data": {
      "text/html": [
       "<div>\n",
       "<style scoped>\n",
       "    .dataframe tbody tr th:only-of-type {\n",
       "        vertical-align: middle;\n",
       "    }\n",
       "\n",
       "    .dataframe tbody tr th {\n",
       "        vertical-align: top;\n",
       "    }\n",
       "\n",
       "    .dataframe thead th {\n",
       "        text-align: right;\n",
       "    }\n",
       "</style>\n",
       "<table border=\"1\" class=\"dataframe\">\n",
       "  <thead>\n",
       "    <tr style=\"text-align: right;\">\n",
       "      <th></th>\n",
       "      <th>step</th>\n",
       "      <th>time{picosecond}</th>\n",
       "      <th>potential{electronvolt}</th>\n",
       "      <th>conserved</th>\n",
       "      <th>temperature{kelvin}</th>\n",
       "      <th>ensemble_temperature{kelvin}</th>\n",
       "    </tr>\n",
       "  </thead>\n",
       "  <tbody>\n",
       "    <tr>\n",
       "      <th>0</th>\n",
       "      <td>0.0</td>\n",
       "      <td>0.0000</td>\n",
       "      <td>-21034.2135</td>\n",
       "      <td>-772.956248</td>\n",
       "      <td>23.362681</td>\n",
       "      <td>300.0</td>\n",
       "    </tr>\n",
       "    <tr>\n",
       "      <th>1</th>\n",
       "      <td>1.0</td>\n",
       "      <td>0.0005</td>\n",
       "      <td>-21034.2505</td>\n",
       "      <td>-772.956337</td>\n",
       "      <td>26.303110</td>\n",
       "      <td>300.0</td>\n",
       "    </tr>\n",
       "    <tr>\n",
       "      <th>2</th>\n",
       "      <td>2.0</td>\n",
       "      <td>0.0010</td>\n",
       "      <td>-21034.3534</td>\n",
       "      <td>-772.956549</td>\n",
       "      <td>29.654368</td>\n",
       "      <td>300.0</td>\n",
       "    </tr>\n",
       "    <tr>\n",
       "      <th>3</th>\n",
       "      <td>3.0</td>\n",
       "      <td>0.0015</td>\n",
       "      <td>-21034.4717</td>\n",
       "      <td>-772.956568</td>\n",
       "      <td>34.096752</td>\n",
       "      <td>300.0</td>\n",
       "    </tr>\n",
       "    <tr>\n",
       "      <th>4</th>\n",
       "      <td>4.0</td>\n",
       "      <td>0.0020</td>\n",
       "      <td>-21034.5717</td>\n",
       "      <td>-772.956509</td>\n",
       "      <td>37.461220</td>\n",
       "      <td>300.0</td>\n",
       "    </tr>\n",
       "    <tr>\n",
       "      <th>...</th>\n",
       "      <td>...</td>\n",
       "      <td>...</td>\n",
       "      <td>...</td>\n",
       "      <td>...</td>\n",
       "      <td>...</td>\n",
       "      <td>...</td>\n",
       "    </tr>\n",
       "    <tr>\n",
       "      <th>96</th>\n",
       "      <td>96.0</td>\n",
       "      <td>0.0480</td>\n",
       "      <td>-21033.6290</td>\n",
       "      <td>-772.955573</td>\n",
       "      <td>155.166408</td>\n",
       "      <td>300.0</td>\n",
       "    </tr>\n",
       "    <tr>\n",
       "      <th>97</th>\n",
       "      <td>97.0</td>\n",
       "      <td>0.0485</td>\n",
       "      <td>-21033.6150</td>\n",
       "      <td>-772.955567</td>\n",
       "      <td>155.041095</td>\n",
       "      <td>300.0</td>\n",
       "    </tr>\n",
       "    <tr>\n",
       "      <th>98</th>\n",
       "      <td>98.0</td>\n",
       "      <td>0.0490</td>\n",
       "      <td>-21033.5837</td>\n",
       "      <td>-772.955573</td>\n",
       "      <td>154.887324</td>\n",
       "      <td>300.0</td>\n",
       "    </tr>\n",
       "    <tr>\n",
       "      <th>99</th>\n",
       "      <td>99.0</td>\n",
       "      <td>0.0495</td>\n",
       "      <td>-21033.5177</td>\n",
       "      <td>-772.955518</td>\n",
       "      <td>153.232882</td>\n",
       "      <td>300.0</td>\n",
       "    </tr>\n",
       "    <tr>\n",
       "      <th>100</th>\n",
       "      <td>100.0</td>\n",
       "      <td>0.0500</td>\n",
       "      <td>-21033.4554</td>\n",
       "      <td>-772.955371</td>\n",
       "      <td>151.440857</td>\n",
       "      <td>300.0</td>\n",
       "    </tr>\n",
       "  </tbody>\n",
       "</table>\n",
       "<p>101 rows × 6 columns</p>\n",
       "</div>"
      ],
      "text/plain": [
       "      step  time{picosecond}  potential{electronvolt}   conserved  \\\n",
       "0      0.0            0.0000              -21034.2135 -772.956248   \n",
       "1      1.0            0.0005              -21034.2505 -772.956337   \n",
       "2      2.0            0.0010              -21034.3534 -772.956549   \n",
       "3      3.0            0.0015              -21034.4717 -772.956568   \n",
       "4      4.0            0.0020              -21034.5717 -772.956509   \n",
       "..     ...               ...                      ...         ...   \n",
       "96    96.0            0.0480              -21033.6290 -772.955573   \n",
       "97    97.0            0.0485              -21033.6150 -772.955567   \n",
       "98    98.0            0.0490              -21033.5837 -772.955573   \n",
       "99    99.0            0.0495              -21033.5177 -772.955518   \n",
       "100  100.0            0.0500              -21033.4554 -772.955371   \n",
       "\n",
       "     temperature{kelvin}  ensemble_temperature{kelvin}  \n",
       "0              23.362681                         300.0  \n",
       "1              26.303110                         300.0  \n",
       "2              29.654368                         300.0  \n",
       "3              34.096752                         300.0  \n",
       "4              37.461220                         300.0  \n",
       "..                   ...                           ...  \n",
       "96            155.166408                         300.0  \n",
       "97            155.041095                         300.0  \n",
       "98            154.887324                         300.0  \n",
       "99            153.232882                         300.0  \n",
       "100           151.440857                         300.0  \n",
       "\n",
       "[101 rows x 6 columns]"
      ]
     },
     "execution_count": 39,
     "metadata": {},
     "output_type": "execute_result"
    }
   ],
   "source": [
    "# Create dataframe with properties of simulation and create dictionary for chemiscope\n",
    "with open(sim_outfile) as f:\n",
    "    headers=[] # create array for headers of dataframe\n",
    "    for line in f.readlines():\n",
    "        if line.startswith('#'):\n",
    "            headers.append(line.split(sep='--> ')[1].split(sep=' : ')[0]) #get names of headers\n",
    "\n",
    "#create dataframe \n",
    "props = pd.read_csv('ABUJUF_PIMD/sim_copy.out', delimiter='    ', skiprows=6, names=headers, engine='python')\n",
    "properties = props.to_dict(orient = 'list') #convert dataframe to dictionary\n",
    "\n",
    "print(\"Properties of the ABUJUF simulation:\")\n",
    "props #display dataframe"
   ]
  },
  {
   "cell_type": "markdown",
   "id": "1bdfb2bb",
   "metadata": {},
   "source": [
    "Now that we've got our simulation properties and the positions of atoms, let's take a look at the simulation! Feel free to play around with th Chemiscope widget below. You can change the axes of the plot (and much more) by using the menu button in the top left corner (three horizontal lines). You can also click the menu button in the top right and alter the display settings of the structure viewer. Lastly, if you'd like to save an image or svg file, there's buttons for that too!"
   ]
  },
  {
   "cell_type": "code",
   "execution_count": 40,
   "id": "6a6903be",
   "metadata": {},
   "outputs": [
    {
     "name": "stderr",
     "output_type": "stream",
     "text": [
      "/ssd/vprincip/code/miniconda3/envs/genshift2/lib/python3.10/site-packages/chemiscope/structures.py:278: UserWarning: the following structure properties properties are only defined for a subset of frames: ['1', '10', '100', '11', '12', '13', '14', '15', '16', '17', '18', '19', '2', '20', '21', '22', '23', '24', '25', '26', '27', '28', '29', '3', '30', '31', '32', '33', '34', '35', '36', '37', '38', '39', '4', '40', '41', '42', '43', '44', '45', '46', '47', '48', '49', '5', '50', '51', '52', '53', '54', '55', '56', '57', '58', '59', '6', '60', '61', '62', '63', '64', '65', '66', '67', '68', '69', '7', '70', '71', '72', '73', '74', '75', '76', '77', '78', '79', '8', '80', '81', '82', '83', '84', '85', '86', '87', '88', '89', '9', '90', '91', '92', '93', '94', '95', '96', '97', '98', '99']; they will be ignored\n",
      "  warnings.warn(\n"
     ]
    },
    {
     "data": {
      "application/vnd.jupyter.widget-view+json": {
       "model_id": "14c662eccba04c008a1a8866cca0f399",
       "version_major": 2,
       "version_minor": 0
      },
      "text/plain": [
       "ChemiscopeWidget(value=None, data='{\"meta\": {\"name\": \" \"}, \"structures\": [{\"size\": 96, \"names\": [\"N\", \"N\", \"N\"…"
      ]
     },
     "metadata": {},
     "output_type": "display_data"
    }
   ],
   "source": [
    "#Display chemiscope widget\n",
    "chemiscope.show(frames=trajectory, properties=properties)"
   ]
  },
  {
   "cell_type": "markdown",
   "id": "0aee45b7",
   "metadata": {},
   "source": [
    "Look at those atoms wiggle! The simulation seems to be progressing well, although a 100-step simulation is far too short to say that for certain - that would be called *fake news* (unlike telling people to drink bleach to combat COVID). Please feel free to run a longer simulation if you would like to see and assess the stability of this model on the system we simulated. "
   ]
  },
  {
   "cell_type": "markdown",
   "id": "702376dc",
   "metadata": {},
   "source": [
    "# The End of the Road\n",
    "\n",
    "Here we are; we've reached the end. I hope the main teachings of this tutorial came through and that you had some laughs (or cringes) along the way. By now, you should have learnt how to create a LAMMPS-style pair potential and use it, in combination with a GAP potential, to run molecular dynamics through i-PI.\n",
    "\n",
    "If you have any further questions or comments regarding this tutorial, please send me, Victor Principe, an email at victorprincipe1206@gmail.com. I would again like to thank Dr. Philip Loche for his help writing Part 1 of this tutorial - please go read and cite his work at https://scholar.google.de/citations?user=ygmPpcYAAAAJ&hl=de. \n",
    "\n",
    "Once again, here are some of the useful links I provided throughout this tutorial:\n",
    "- LAMMPS documentation: https://docs.lammps.org/Manual.html\n",
    "- Quantum Espresso website: https://www.quantum-espresso.org\n",
    "- COSMO lab website: https://www.epfl.ch/labs/cosmo/\n",
    "- Librascal GitHub page: https://github.com/lab-cosmo/librascal\n",
    "- i-PI website: http://ipi-code.org\n",
    "- Chemiscope website: https://chemiscope.org\n",
    "\n",
    "Lastly, let me leave you with an inspirational quote for work (and for life in general) :\n",
    "\n",
    "*Shoot for the moon. Even if you miss, you'll land among the stars.* -- Unknown origin"
   ]
  }
 ],
 "metadata": {
  "kernelspec": {
   "display_name": "Python 3 (ipykernel)",
   "language": "python",
   "name": "python3"
  },
  "language_info": {
   "codemirror_mode": {
    "name": "ipython",
    "version": 3
   },
   "file_extension": ".py",
   "mimetype": "text/x-python",
   "name": "python",
   "nbconvert_exporter": "python",
   "pygments_lexer": "ipython3",
   "version": "3.10.4"
  },
  "toc": {
   "base_numbering": "0",
   "nav_menu": {},
   "number_sections": true,
   "sideBar": true,
   "skip_h1_title": false,
   "title_cell": "Table of Contents",
   "title_sidebar": "Contents",
   "toc_cell": false,
   "toc_position": {
    "height": "calc(100% - 180px)",
    "left": "10px",
    "top": "150px",
    "width": "302.383px"
   },
   "toc_section_display": true,
   "toc_window_display": true
  }
 },
 "nbformat": 4,
 "nbformat_minor": 5
}
